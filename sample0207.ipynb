{
  "nbformat": 4,
  "nbformat_minor": 0,
  "metadata": {
    "colab": {
      "name": "sample0207.ipynb",
      "provenance": [],
      "collapsed_sections": []
    },
    "kernelspec": {
      "name": "python3",
      "display_name": "Python 3"
    },
    "language_info": {
      "name": "python"
    }
  },
  "cells": [
    {
      "cell_type": "markdown",
      "source": [
        "### if 判斷式"
      ],
      "metadata": {
        "id": "a88-lM3_Pkqq"
      }
    },
    {
      "cell_type": "code",
      "execution_count": null,
      "metadata": {
        "colab": {
          "base_uri": "https://localhost:8080/"
        },
        "id": "PB1sKKv8Pg2W",
        "outputId": "a223dd27-31ba-4db3-9d68-c31fbd2637c1"
      },
      "outputs": [
        {
          "output_type": "stream",
          "name": "stdout",
          "text": [
            "a is less or equal to b\n"
          ]
        }
      ],
      "source": [
        "# 1. 簡單比大小\n",
        "a = 10\n",
        "b = 15\n",
        "if a>b:\n",
        "  print(\"a is large\")\n",
        "else:\n",
        "  print(\"a is less or equal to b\")"
      ]
    },
    {
      "cell_type": "code",
      "source": [
        "# 2. 槽狀判斷\n",
        "import numpy as np\n",
        "days = np.array(['Mon.', 'Tues.', 'Wed.', 'Thurs', 'Fri.', 'Sat.', 'Sun.'])\n",
        "keys = 3\n",
        "\n",
        "if(keys < 7):\n",
        "  if(days[keys] == 'Sat.' or days[keys] == 'Sun.'):\n",
        "    print(\"is Holiday\")\n",
        "  elif(days[keys] == 'Fri.'):\n",
        "    print(\"is Friday\")\n",
        "  else:\n",
        "    print(\"is working days\")\n",
        "else:\n",
        "  print('wrong keys')\n"
      ],
      "metadata": {
        "colab": {
          "base_uri": "https://localhost:8080/"
        },
        "id": "noXdNdf3QAUl",
        "outputId": "f6df9b6f-7a0d-4425-9a35-d80c8cb5290c"
      },
      "execution_count": null,
      "outputs": [
        {
          "output_type": "stream",
          "name": "stdout",
          "text": [
            "is Holiday\n"
          ]
        }
      ]
    },
    {
      "cell_type": "markdown",
      "source": [
        "### For 迴圈"
      ],
      "metadata": {
        "id": "6NB40ekjSVvh"
      }
    },
    {
      "cell_type": "code",
      "source": [
        "# 考慮AIworkshop-sample0201範例\n",
        "# 變數本身能自己對自己做加減乘除，習慣上稱之為\"更新\"\n",
        "a = 0\n",
        "a = a + 1\n",
        "a = a + 1\n",
        "print(\"update a: \", a)\n",
        "\n",
        "# 但如果要累加至100，顯然太過麻煩...\n",
        "# 使用for迴圈能簡單做到累加"
      ],
      "metadata": {
        "id": "4181hSoJSUz5"
      },
      "execution_count": null,
      "outputs": []
    },
    {
      "cell_type": "code",
      "source": [
        "# range() 函数返回一個可迭代對象: range(start, stop[, step]) 一般用在for迴圈\n",
        "for i in range(5):\n",
        "  print(i)"
      ],
      "metadata": {
        "colab": {
          "base_uri": "https://localhost:8080/"
        },
        "id": "EwPEfd9oPLF_",
        "outputId": "bf1a0e7b-a5f6-4ec1-da5c-2b6e2a7204ca"
      },
      "execution_count": null,
      "outputs": [
        {
          "output_type": "stream",
          "name": "stdout",
          "text": [
            "0\n",
            "1\n",
            "2\n",
            "3\n",
            "4\n"
          ]
        }
      ]
    },
    {
      "cell_type": "code",
      "source": [
        "a = 0\n",
        "for i in range(5):\n",
        "  a = a + 1\n",
        "  print(\"i= \",i, \"; update a: \", a)"
      ],
      "metadata": {
        "colab": {
          "base_uri": "https://localhost:8080/"
        },
        "id": "6T-uFT2LP1wn",
        "outputId": "552857d2-04bd-4dd4-daec-4235675debb9"
      },
      "execution_count": null,
      "outputs": [
        {
          "output_type": "stream",
          "name": "stdout",
          "text": [
            "i=  0 ; update a:  1\n",
            "i=  1 ; update a:  2\n",
            "i=  2 ; update a:  3\n",
            "i=  3 ; update a:  4\n",
            "i=  4 ; update a:  5\n"
          ]
        }
      ]
    },
    {
      "cell_type": "markdown",
      "source": [
        "### 使用for迴圈遍歷瀏覽Numpy array"
      ],
      "metadata": {
        "id": "rgssfr-URYUw"
      }
    },
    {
      "cell_type": "code",
      "source": [
        "import numpy as np\n",
        "a = np.array([1.5, 5.5, 9.5], dtype = 'float64')\n",
        "print(\"length of a: \", len(a))\n",
        "\n",
        "for i in range(len(a)):\n",
        "  print(\"index \", i, \"is \", a[i])"
      ],
      "metadata": {
        "colab": {
          "base_uri": "https://localhost:8080/"
        },
        "id": "nO1lPUapRlul",
        "outputId": "1beca419-a137-45c6-eba4-ee37dce6c7c5"
      },
      "execution_count": null,
      "outputs": [
        {
          "output_type": "stream",
          "name": "stdout",
          "text": [
            "length of a:  3\n",
            "index  0 is  1.5\n",
            "index  1 is  5.5\n",
            "index  2 is  9.5\n"
          ]
        }
      ]
    },
    {
      "cell_type": "code",
      "source": [
        "# 創建一個二維矩陣，並指定元素為整數\n",
        "b = np.array([[1, 5, 9], [2, 6, 10]], dtype = 'int64')\n",
        "\n",
        "rows, columns = b.shape # shape 返回矩陣形狀\n",
        "print(\"rows:\", rows)\n",
        "print(\"columns:\", columns)\n",
        "\n",
        "for row in range(rows):\n",
        "  for column in range(columns):\n",
        "    print(\"[row, column]=\",\"[\",row,\",\",column,\"]\", \"=\", b[row, column])\n",
        "\n",
        "# 內層迴圈會先跑完，再執行外層迴圈"
      ],
      "metadata": {
        "colab": {
          "base_uri": "https://localhost:8080/"
        },
        "id": "vgM_BI6uR5S3",
        "outputId": "c80ca0b6-98cc-4c35-e6c5-977a2882eef5"
      },
      "execution_count": null,
      "outputs": [
        {
          "output_type": "stream",
          "name": "stdout",
          "text": [
            "rows: 2\n",
            "columns: 3\n",
            "[row, column]= [ 0 , 0 ] = 1\n",
            "[row, column]= [ 0 , 1 ] = 5\n",
            "[row, column]= [ 0 , 2 ] = 9\n",
            "[row, column]= [ 1 , 0 ] = 2\n",
            "[row, column]= [ 1 , 1 ] = 6\n",
            "[row, column]= [ 1 , 2 ] = 10\n"
          ]
        }
      ]
    },
    {
      "cell_type": "markdown",
      "source": [
        "### 結合迴圈, if 與陣列"
      ],
      "metadata": {
        "id": "HT7IJHUITn7N"
      }
    },
    {
      "cell_type": "code",
      "source": [
        "# 試顯示kernal中的元素7的位置(row, column)\n",
        "\n",
        "kernal = np.array([[1, 2, 3], [4, 5, 6], [7, 8, 9]], dtype = 'int64')\n",
        "\n",
        "rows, columns = kernal.shape # shape 返回矩陣形狀\n",
        "\n",
        "for row in range(rows):\n",
        "  for column in range(columns):\n",
        "    if(kernal[row, column] == 8):\n",
        "      print(\"[row, column]=\",\"[\",row,\",\",column,\"]\", \"=\", kernal[row, column])"
      ],
      "metadata": {
        "colab": {
          "base_uri": "https://localhost:8080/"
        },
        "id": "EcE7tEmcTf-n",
        "outputId": "6b8c635b-a8bb-413e-e2b2-1ffe3a2bd4d0"
      },
      "execution_count": null,
      "outputs": [
        {
          "output_type": "stream",
          "name": "stdout",
          "text": [
            "[row, column]= [ 2 , 1 ] = 8\n"
          ]
        }
      ]
    }
  ]
}