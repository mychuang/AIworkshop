{
  "nbformat": 4,
  "nbformat_minor": 0,
  "metadata": {
    "colab": {
      "name": "sample0206.ipynb",
      "provenance": [],
      "collapsed_sections": []
    },
    "kernelspec": {
      "name": "python3",
      "display_name": "Python 3"
    },
    "language_info": {
      "name": "python"
    }
  },
  "cells": [
    {
      "cell_type": "markdown",
      "source": [
        "### Numpy 基本介紹"
      ],
      "metadata": {
        "id": "8Z3hf3LkaS_W"
      }
    },
    {
      "cell_type": "code",
      "execution_count": null,
      "metadata": {
        "colab": {
          "base_uri": "https://localhost:8080/"
        },
        "id": "EuQkcRzOWQqa",
        "outputId": "28f13a49-e1ab-4777-92f0-9b9240bbf145"
      },
      "outputs": [
        {
          "output_type": "stream",
          "name": "stdout",
          "text": [
            "<class 'numpy.ndarray'>\n",
            "float64\n",
            "9.5\n"
          ]
        }
      ],
      "source": [
        "import numpy as np\n",
        "import pandas as pd\n",
        "import matplotlib as mp\n",
        "\n",
        "\n",
        "# 創建一個一維陣列，並指定元素為浮點數\n",
        "\n",
        "a = np.array([1.5, 5.5, 9.5], dtype = 'float64')\n",
        "print(type(a))\n",
        "\n",
        "# 顯示元素型態\n",
        "print(a.dtype)\n",
        "\n",
        "print(a.max())"
      ]
    },
    {
      "cell_type": "code",
      "source": [
        "# 創建一個二維矩陣，並指定元素為整數\n",
        "b = np.array([[1, 5, 9], [2, 6, 10]], dtype = 'int64')\n",
        "\n",
        "# 顯示矩陣形狀\n",
        "print(b.shape)"
      ],
      "metadata": {
        "colab": {
          "base_uri": "https://localhost:8080/"
        },
        "id": "se73e_qiXv4X",
        "outputId": "4e409b73-88a2-4a91-d128-b20a525500d5"
      },
      "execution_count": null,
      "outputs": [
        {
          "output_type": "stream",
          "name": "stdout",
          "text": [
            "(2, 3)\n"
          ]
        }
      ]
    },
    {
      "cell_type": "markdown",
      "source": [
        "### 矩陣取值"
      ],
      "metadata": {
        "id": "o5OuL3Ota9qj"
      }
    },
    {
      "cell_type": "code",
      "source": [
        "# 矩陣方向都是先列後行\n",
        "\n",
        "print(b[0, 0])\n",
        "print(b[0, 1])\n",
        "\n",
        "# 第1列第2行是?"
      ],
      "metadata": {
        "colab": {
          "base_uri": "https://localhost:8080/"
        },
        "id": "P-HNvs3pZLrF",
        "outputId": "9dfd1096-e3b9-449a-dc9d-3483af47e294"
      },
      "execution_count": null,
      "outputs": [
        {
          "output_type": "stream",
          "name": "stdout",
          "text": [
            "1\n",
            "5\n"
          ]
        }
      ]
    },
    {
      "cell_type": "code",
      "source": [
        "# 創建一個三維矩陣，並指定元素為整數\n",
        "c = np.array([[1, 2, 3], [4, 5, 6], [7, 8, 9]], dtype = 'int64')\n",
        "\n",
        "# 矩陣方向都是先列後行\n",
        "print(c[0]) # 指定第0列\n",
        "print(c[1]) # 指定第1列\n",
        "print(c[2]) # 指定第2列"
      ],
      "metadata": {
        "colab": {
          "base_uri": "https://localhost:8080/"
        },
        "id": "My1tR-SWbvor",
        "outputId": "32553f24-17c4-47f7-d1f4-aad3f4470272"
      },
      "execution_count": null,
      "outputs": [
        {
          "output_type": "stream",
          "name": "stdout",
          "text": [
            "[1 2 3]\n",
            "[4 5 6]\n",
            "[7 8 9]\n"
          ]
        }
      ]
    },
    {
      "cell_type": "markdown",
      "source": [
        "### 矩陣切片"
      ],
      "metadata": {
        "id": "9sTHHgOLbtBz"
      }
    },
    {
      "cell_type": "code",
      "source": [
        "print(c[:, 0]) # 指定第0行,所有列\n",
        "print(c[:, 1]) # 指定第1行,所有列\n",
        "print(c[:, 2]) # 指定第2行,所有列"
      ],
      "metadata": {
        "colab": {
          "base_uri": "https://localhost:8080/"
        },
        "id": "7SSftpc8cJd8",
        "outputId": "d51bae96-7e53-4fac-fe42-ae21f2bd11f2"
      },
      "execution_count": null,
      "outputs": [
        {
          "output_type": "stream",
          "name": "stdout",
          "text": [
            "[1 4 7]\n",
            "[2 5 8]\n",
            "[3 6 9]\n"
          ]
        }
      ]
    },
    {
      "cell_type": "code",
      "source": [
        "print(c[:2, :2]) # 指定第0~1列，第0~1行"
      ],
      "metadata": {
        "colab": {
          "base_uri": "https://localhost:8080/"
        },
        "id": "KVmuF6HNcppK",
        "outputId": "28acdc13-48f1-4afc-e7da-701dc96baaa0"
      },
      "execution_count": null,
      "outputs": [
        {
          "output_type": "stream",
          "name": "stdout",
          "text": [
            "[[1 2]\n",
            " [4 5]]\n"
          ]
        }
      ]
    },
    {
      "cell_type": "code",
      "source": [
        "# 試切出第1列，第1~2行的元素\n",
        "# c = np.array([[1, 2, 3], [4, 5, 6], [7, 8, 9]], dtype = 'int64')\n",
        "# print(c[1, 1:3])"
      ],
      "metadata": {
        "colab": {
          "base_uri": "https://localhost:8080/"
        },
        "id": "HZJJfwlXEMvn",
        "outputId": "98dafaff-f70b-435c-8bf3-73309d9a0e4c"
      },
      "execution_count": null,
      "outputs": [
        {
          "output_type": "stream",
          "name": "stdout",
          "text": [
            "[5 6]\n"
          ]
        }
      ]
    },
    {
      "cell_type": "markdown",
      "source": [
        "### 合併陣列"
      ],
      "metadata": {
        "id": "ws9sZcTIf9rJ"
      }
    },
    {
      "cell_type": "code",
      "source": [
        "#np.concatenate() 方法將兩個陣列合併\n",
        "x = np.array([1, 2, 3]) \n",
        "y = np.array([4, 5, 6]) \n",
        "\n",
        "print(np.concatenate([x, y]))"
      ],
      "metadata": {
        "colab": {
          "base_uri": "https://localhost:8080/"
        },
        "id": "z6Wo_muHf_Wg",
        "outputId": "2960e8b8-6b0b-4a24-c9b2-628306a1a7c8"
      },
      "execution_count": null,
      "outputs": [
        {
          "output_type": "stream",
          "name": "stdout",
          "text": [
            "[1 2 3 4 5 6]\n"
          ]
        }
      ]
    },
    {
      "cell_type": "markdown",
      "source": [
        "### 矩陣重塑"
      ],
      "metadata": {
        "id": "h_ci5_B0hNfb"
      }
    },
    {
      "cell_type": "code",
      "source": [
        "# np.reshape() 可以改變矩陣的形狀\n",
        "arrayA = np.array([1,2,3,4,5,6,7,8])\n",
        "arrayB = np.reshape(arrayA, (4,2)) #先列後行\n",
        "\n",
        "print(arrayB)\n",
        "print(arrayB.shape)"
      ],
      "metadata": {
        "colab": {
          "base_uri": "https://localhost:8080/"
        },
        "id": "Xx0JL0uhhR1i",
        "outputId": "63fa27f9-7d91-4d20-97d1-00a37f775a30"
      },
      "execution_count": null,
      "outputs": [
        {
          "output_type": "stream",
          "name": "stdout",
          "text": [
            "[[1 2]\n",
            " [3 4]\n",
            " [5 6]\n",
            " [7 8]]\n",
            "(4, 2)\n"
          ]
        }
      ]
    },
    {
      "cell_type": "markdown",
      "source": [
        "### 快速創建陣列or矩陣"
      ],
      "metadata": {
        "id": "HhFeb3W-ekO6"
      }
    },
    {
      "cell_type": "code",
      "source": [
        "# numpy.linspace(start, stop, num=50, endpoint=True, retstep=False, dtype=None, axis=0)\n",
        "# 返回指定間隔內的均勻間隔的數字\n",
        "x = np.linspace(1,3,5)\n",
        "print(x)"
      ],
      "metadata": {
        "colab": {
          "base_uri": "https://localhost:8080/"
        },
        "id": "Dt3GJ5tPegIS",
        "outputId": "fbb35d67-3289-4c33-c385-f4669ef05e8c"
      },
      "execution_count": null,
      "outputs": [
        {
          "output_type": "stream",
          "name": "stdout",
          "text": [
            "[1.  1.5 2.  2.5 3. ]\n"
          ]
        }
      ]
    },
    {
      "cell_type": "code",
      "source": [
        "# numpy.zeros(shape, dtype=float, order='C')\n",
        "# 返回給定形狀和類型的新數組，並用零填充。\n",
        "x = np.zeros((2,2), dtype=int)\n",
        "print(x)"
      ],
      "metadata": {
        "colab": {
          "base_uri": "https://localhost:8080/"
        },
        "id": "OphCq3Gme7ga",
        "outputId": "3bc9b9a9-8449-4a2c-fe96-0650376683a4"
      },
      "execution_count": null,
      "outputs": [
        {
          "output_type": "stream",
          "name": "stdout",
          "text": [
            "[[0 0]\n",
            " [0 0]]\n"
          ]
        }
      ]
    },
    {
      "cell_type": "code",
      "source": [
        "# numpy.ones(shape, dtype=None, order='C')\n",
        "# 返回給定形狀和類型的新數組，並填充為1。\n",
        "x = np.ones(10, dtype=int)\n",
        "print(x)"
      ],
      "metadata": {
        "colab": {
          "base_uri": "https://localhost:8080/"
        },
        "id": "IJfQ1h8afbj6",
        "outputId": "0cb64fab-5a19-4ad0-81ba-42764f6bb1b7"
      },
      "execution_count": null,
      "outputs": [
        {
          "output_type": "stream",
          "name": "stdout",
          "text": [
            "[1 1 1 1 1 1 1 1 1 1]\n"
          ]
        }
      ]
    }
  ]
}