{
  "nbformat": 4,
  "nbformat_minor": 0,
  "metadata": {
    "colab": {
      "name": "sample0205.ipynb",
      "provenance": []
    },
    "kernelspec": {
      "name": "python3",
      "display_name": "Python 3"
    },
    "language_info": {
      "name": "python"
    }
  },
  "cells": [
    {
      "cell_type": "code",
      "execution_count": 12,
      "metadata": {
        "colab": {
          "base_uri": "https://localhost:8080/"
        },
        "id": "vbXu--rFYrg-",
        "outputId": "32a29760-2562-438e-af72-78477a92153e"
      },
      "outputs": [
        {
          "output_type": "stream",
          "name": "stdout",
          "text": [
            "This is function 01\n"
          ]
        }
      ],
      "source": [
        "from importsample import func01\n",
        "func01()"
      ]
    },
    {
      "cell_type": "code",
      "source": [
        "from importsample import func01, func02\n",
        "func02()"
      ],
      "metadata": {
        "colab": {
          "base_uri": "https://localhost:8080/"
        },
        "id": "PjZklUxcZAus",
        "outputId": "2beb9284-6a05-481c-803a-a8252053b44b"
      },
      "execution_count": 13,
      "outputs": [
        {
          "output_type": "stream",
          "name": "stdout",
          "text": [
            "This is function 02\n"
          ]
        }
      ]
    },
    {
      "cell_type": "code",
      "source": [
        "from importsample import *\n",
        "print(func03(10))"
      ],
      "metadata": {
        "colab": {
          "base_uri": "https://localhost:8080/"
        },
        "id": "jGLfJT1Nbg15",
        "outputId": "ee9ee501-b003-4449-c4cc-4f0451057903"
      },
      "execution_count": 14,
      "outputs": [
        {
          "output_type": "stream",
          "name": "stdout",
          "text": [
            "11\n"
          ]
        }
      ]
    },
    {
      "cell_type": "code",
      "source": [
        "import importsample # same as from importsample import *"
      ],
      "metadata": {
        "id": "qEegcf2WfKs3"
      },
      "execution_count": 20,
      "outputs": []
    },
    {
      "cell_type": "markdown",
      "source": [
        "Third-part lib"
      ],
      "metadata": {
        "id": "fd0ESp7zboo_"
      }
    },
    {
      "cell_type": "code",
      "source": [
        "from datetime import date\n",
        "d1 = date(2022, 1, 1)\n",
        "print(d1)"
      ],
      "metadata": {
        "colab": {
          "base_uri": "https://localhost:8080/"
        },
        "id": "hVaNQRlreY95",
        "outputId": "acb462cb-5d53-48f8-c1ec-0f4f388fc32a"
      },
      "execution_count": 25,
      "outputs": [
        {
          "output_type": "stream",
          "name": "stdout",
          "text": [
            "2022-01-01\n"
          ]
        }
      ]
    },
    {
      "cell_type": "code",
      "source": [
        "import datetime\n",
        "d1 = datetime.date(2022, 1, 1)\n",
        "print(d1)"
      ],
      "metadata": {
        "colab": {
          "base_uri": "https://localhost:8080/"
        },
        "id": "Al85GEU8fa2s",
        "outputId": "6b84d27b-c820-44ec-be9a-b7a9d40b9fe0"
      },
      "execution_count": 24,
      "outputs": [
        {
          "output_type": "stream",
          "name": "stdout",
          "text": [
            "2022-01-01\n"
          ]
        }
      ]
    },
    {
      "cell_type": "code",
      "source": [
        "import numpy as np\n",
        "a = np.array([1, 2, 3])\n",
        "print(type(a))\n",
        "print(a)"
      ],
      "metadata": {
        "colab": {
          "base_uri": "https://localhost:8080/"
        },
        "id": "CcL6Y94ydoW4",
        "outputId": "6687c99c-bcda-4fab-d63f-a9e81a35a2c1"
      },
      "execution_count": 26,
      "outputs": [
        {
          "output_type": "stream",
          "name": "stdout",
          "text": [
            "<class 'numpy.ndarray'>\n",
            "[1 2 3]\n"
          ]
        }
      ]
    }
  ]
}